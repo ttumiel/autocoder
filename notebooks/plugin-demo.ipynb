{
 "cells": [
  {
   "cell_type": "code",
   "execution_count": null,
   "metadata": {},
   "outputs": [],
   "source": [
    "# Uncomment to install autocoder if not installed\n",
    "# !pip install git@github.com:ttumiel/autocoder.git"
   ]
  },
  {
   "cell_type": "markdown",
   "metadata": {},
   "source": [
    "# Autocoder\n",
    "\n",
    "What does it do?\n",
    "- Automatically generate JSON schemas of python functions\n",
    "- Integrate into ChatGPT plugins\n",
    "- Automate function calling in python\n",
    "- Convert unstructured data to structured data"
   ]
  },
  {
   "cell_type": "code",
   "execution_count": null,
   "metadata": {},
   "outputs": [],
   "source": [
    "from pprint import pprint as print\n",
    "from autocoder import json_schema\n",
    "\n",
    "\n",
    "@json_schema\n",
    "def addition(x: float, y: float) -> float:\n",
    "    \"\"\"adds two numbers\n",
    "\n",
    "    Args:\n",
    "        x (float): first number\n",
    "        y (float): second number\n",
    "    \"\"\"\n",
    "    return x + y\n",
    "\n",
    "print(addition.json)"
   ]
  },
  {
   "cell_type": "markdown",
   "metadata": {},
   "source": [
    "# Make it a Plugin"
   ]
  },
  {
   "cell_type": "code",
   "execution_count": null,
   "metadata": {},
   "outputs": [],
   "source": [
    "from autocoder.server import FunctionServer\n",
    "\n",
    "server = FunctionServer({\"addition\": addition})\n",
    "server.run(debug=False, use_reloader=False) # use_reloader=False for Jupyter"
   ]
  },
  {
   "cell_type": "markdown",
   "metadata": {},
   "source": [
    "# Using the Function Calling API\n",
    "\n",
    "**Converting Unstructured Data to Structured Data**\n",
    "\n",
    "_(I was writing this code just last night so it's kinda janky :))_"
   ]
  },
  {
   "cell_type": "code",
   "execution_count": null,
   "metadata": {},
   "outputs": [],
   "source": [
    "# Get the imports!\n",
    "from dataclasses import dataclass\n",
    "from typing import Optional\n",
    "from autocoder import function_call\n",
    "from autocoder.api import FunctionCallingAPI, Role\n",
    "\n",
    "\n",
    "@json_schema\n",
    "@dataclass\n",
    "class Character:\n",
    "    name: str\n",
    "    age: Optional[int] = None\n",
    "    house: Optional[str] = None"
   ]
  },
  {
   "cell_type": "code",
   "execution_count": null,
   "metadata": {},
   "outputs": [],
   "source": [
    "# Setup our function calling API\n",
    "system_prompt = \"You are a literary expert on the Dune book series.\"\n",
    "functions = {\"Character\": Character}\n",
    "api = FunctionCallingAPI(functions, system_prompt)\n",
    "api.chat.add_message(Role.USER.value, \"List the characters in the Dune series. Give best estimates of age's where appropriate.\")"
   ]
  },
  {
   "cell_type": "code",
   "execution_count": null,
   "metadata": {},
   "outputs": [],
   "source": [
    "for _ in range(5):\n",
    "    # Force the API to call a function\n",
    "    message = api.reply(force_function=\"Character\")\n",
    "    api.chat.messages.append(message)\n",
    "\n",
    "    # Call the function (and validate the inputs!)\n",
    "    fn_name = message.function_call[\"name\"]\n",
    "    args = message.function_call[\"arguments\"]\n",
    "    result = function_call(fn_name, args, functions, return_json=False)\n",
    "\n",
    "    # Add the result to the chat\n",
    "    api.chat.add_message(Role.FUNCTION.value, str(result), name=\"character\")\n",
    "    print(result)"
   ]
  },
  {
   "cell_type": "markdown",
   "metadata": {},
   "source": [
    "# Deploy!\n",
    "\n",
    "It's just a flask app. You could use a simple google cloud function to deploy it.\n",
    "\n",
    "\n",
    "\n",
    "\n",
    "\n",
    "\n"
   ]
  },
  {
   "cell_type": "markdown",
   "metadata": {},
   "source": [
    ".   "
   ]
  }
 ],
 "metadata": {
  "kernelspec": {
   "display_name": "giftr",
   "language": "python",
   "name": "python3"
  },
  "language_info": {
   "codemirror_mode": {
    "name": "ipython",
    "version": 3
   },
   "file_extension": ".py",
   "mimetype": "text/x-python",
   "name": "python",
   "nbconvert_exporter": "python",
   "pygments_lexer": "ipython3",
   "version": "3.10.12"
  },
  "orig_nbformat": 4
 },
 "nbformat": 4,
 "nbformat_minor": 2
}
