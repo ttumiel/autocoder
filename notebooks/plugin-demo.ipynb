{
 "cells": [
  {
   "cell_type": "code",
   "execution_count": null,
   "metadata": {},
   "outputs": [],
   "source": [
    "# Uncomment to install chat2func if not installed\n",
    "# !pip install chat2func[develop]"
   ]
  },
  {
   "cell_type": "markdown",
   "metadata": {},
   "source": [
    "# chat2func\n",
    "\n",
    "What does it do?\n",
    "- Automatically generate JSON schemas of python functions\n",
    "- Integrate into ChatGPT plugins\n",
    "- Automate function calling in python\n",
    "- Convert unstructured data to structured data"
   ]
  },
  {
   "cell_type": "code",
   "execution_count": null,
   "metadata": {},
   "outputs": [],
   "source": [
    "from pprint import pprint as print\n",
    "from chat2func import json_schema\n",
    "\n",
    "@json_schema\n",
    "def addition(x: float, y: float) -> float:\n",
    "    \"\"\"adds two numbers\n",
    "\n",
    "    Args:\n",
    "        x (float): first number\n",
    "        y (float): second number\n",
    "    \"\"\"\n",
    "    return x + y\n",
    "\n",
    "print(addition.__schema__)"
   ]
  },
  {
   "cell_type": "markdown",
   "metadata": {},
   "source": [
    "# Make it a Plugin"
   ]
  },
  {
   "cell_type": "code",
   "execution_count": null,
   "metadata": {},
   "outputs": [],
   "source": [
    "from chat2func.server import FunctionServer\n",
    "\n",
    "server = FunctionServer({\"addition\": addition})\n",
    "server.run(debug=True, use_reloader=False) # use_reloader=False for Jupyter"
   ]
  },
  {
   "cell_type": "markdown",
   "metadata": {},
   "source": [
    "### Go to [ChatGPT](https://chat.openai.com/?model=gpt-4-plugins)\n",
    "\n",
    "- Make sure you have the plugin version of ChatGPT selected.\n",
    "- Click on the Plugin Store.\n",
    "- Click `Develop your own plugin` in the bottom right\n",
    "- Put in `localhost:3333` (or another port if you changed it from the default)\n",
    "- Ask ChatGPT questions about your plugin!\n",
    "\n",
    "![Plugin Demo](./data/plugin-demo.png)"
   ]
  },
  {
   "cell_type": "markdown",
   "metadata": {},
   "source": [
    "# Export (and Deploy!)\n",
    "\n",
    "It's just a flask app. You could use a simple google cloud function to deploy it."
   ]
  },
  {
   "cell_type": "code",
   "execution_count": null,
   "metadata": {},
   "outputs": [],
   "source": [
    "# Export the main plugin files.\n",
    "server.export(\"./my-plugin\")"
   ]
  },
  {
   "cell_type": "markdown",
   "metadata": {},
   "source": [
    "# Using the Function Calling API\n",
    "\n",
    "Here we demonstrate the power of the function calling API by converting unstructured data to structured data, in the form of a python dataclass.\n",
    "\n",
    "_Note: the `FunctionCallingAPI` is still experimental._"
   ]
  },
  {
   "cell_type": "code",
   "execution_count": null,
   "metadata": {},
   "outputs": [],
   "source": [
    "# Set your API key\n",
    "# import openai\n",
    "# openai.api_key = \"...\""
   ]
  },
  {
   "cell_type": "code",
   "execution_count": null,
   "metadata": {},
   "outputs": [],
   "source": [
    "# Get the imports!\n",
    "from dataclasses import dataclass\n",
    "from typing import Optional\n",
    "from chat2func import function_calls\n",
    "from chat2func.api import FunctionCallingAPI, Role\n",
    "\n",
    "@json_schema\n",
    "@dataclass\n",
    "class Character:\n",
    "    name: str\n",
    "    age: Optional[int] = None\n",
    "    house: Optional[str] = None"
   ]
  },
  {
   "cell_type": "code",
   "execution_count": null,
   "metadata": {},
   "outputs": [],
   "source": [
    "# Setup our function calling API\n",
    "system_prompt = \"You are a literary expert on the Dune book series.\"\n",
    "functions = {\"Character\": Character}\n",
    "api = FunctionCallingAPI(functions, system_prompt)\n",
    "api.chat.add_message(Role.USER.value, \"List the heads of houses in the Dune series. Give best estimates of age's where appropriate.\")"
   ]
  },
  {
   "cell_type": "code",
   "execution_count": null,
   "metadata": {},
   "outputs": [],
   "source": [
    "for _ in range(5):\n",
    "    # Force the API to call a function\n",
    "    message = api.reply(force_function=\"Character\")\n",
    "    api.chat.messages.append(message)\n",
    "\n",
    "    # Call the function (and validate the inputs!)\n",
    "    fn_name = message.function_call[\"name\"]\n",
    "    args = message.function_call[\"arguments\"]\n",
    "    result = function_calls(fn_name, functions, args, return_json=False)\n",
    "\n",
    "    # Add the result to the chat\n",
    "    api.chat.add_message(Role.FUNCTION.value, str(result), name=\"character\")\n",
    "    print(result)"
   ]
  }
 ],
 "metadata": {
  "kernelspec": {
   "display_name": "giftr",
   "language": "python",
   "name": "python3"
  },
  "language_info": {
   "codemirror_mode": {
    "name": "ipython",
    "version": 3
   },
   "file_extension": ".py",
   "mimetype": "text/x-python",
   "name": "python",
   "nbconvert_exporter": "python",
   "pygments_lexer": "ipython3",
   "version": "3.10.12"
  },
  "orig_nbformat": 4
 },
 "nbformat": 4,
 "nbformat_minor": 2
}
